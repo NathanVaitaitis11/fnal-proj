{
 "cells": [
  {
   "cell_type": "markdown",
   "id": "cd92e48f-9b7f-4979-8c66-0b67b0ffc44e",
   "metadata": {},
   "source": [
    "# Anon demo"
   ]
  },
  {
   "cell_type": "markdown",
   "id": "34d2c905-cf28-4e56-aaeb-bcffe6423a7f",
   "metadata": {},
   "source": [
    "**Assignment**:\n",
    "\n",
    "1) Anon the user field and create a mapping\n",
    "2) Anon the IP address field (which is expressed as a string, but can also map to a 32bit integer. [yet sparsely so in our data]\n",
    "3) Make a vectors of the anonymous data and clear data\n",
    "4) Generate a \"ragged array\" of the data in this form (i.e. dump out the records which are of variable length)\n",
    "Bonus) Tell us which users jobs fail and how often as an absolute number, and as a fraction of the whole dataset."
   ]
  },
  {
   "cell_type": "code",
   "execution_count": 17,
   "id": "a7e2d004-fc02-4f8f-927c-fc5a88580eb3",
   "metadata": {},
   "outputs": [],
   "source": [
    "# --- Minimal dependencies ---\n",
    "import hmac, hashlib, base64, ipaddress, json\n",
    "from typing import Any, Iterable, Dict, Optional\n",
    "import numpy as np\n",
    "import pandas as pd\n",
    "import datetime as _dt\n",
    "import glob\n",
    "import duckdb"
   ]
  },
  {
   "cell_type": "code",
   "execution_count": 18,
   "id": "5fb6b5f5-4a7a-4398-b581-1a02aace96ca",
   "metadata": {},
   "outputs": [],
   "source": [
    "#!pip install duckdb"
   ]
  },
  {
   "cell_type": "markdown",
   "id": "dd979298-accb-45d7-a9be-126cedd36b93",
   "metadata": {},
   "source": [
    "### Helpers"
   ]
  },
  {
   "cell_type": "code",
   "execution_count": 19,
   "id": "5f630042-aabb-45da-ad77-3a0b74b1f36f",
   "metadata": {},
   "outputs": [],
   "source": [
    "# ---------- Helpers ----------\n",
    "def _b(x: Any) -> bytes:\n",
    "    \"\"\"Normalize values to bytes for HMAC; preserves None/NaN.\"\"\"\n",
    "    if x is None:\n",
    "        return b\"\"\n",
    "    try:\n",
    "        if pd.isna(x):\n",
    "            return b\"\"\n",
    "    except Exception:\n",
    "        pass\n",
    "    if isinstance(x, bytes):\n",
    "        return x\n",
    "    return str(x).encode(\"utf-8\", errors=\"ignore\")\n",
    "\n",
    "def token_hmac_b32(value: Any, key: bytes, length: int = 22) -> str:\n",
    "    \"\"\"Deterministic HMAC-SHA256 → Base32 (truncated). Good for user pseudonyms.\"\"\"\n",
    "    mac = hmac.new(key, _b(value), hashlib.sha256).digest()\n",
    "    tok = base64.b32encode(mac).decode(\"ascii\").rstrip(\"=\")[:length]\n",
    "    return tok.lower()\n",
    "\n",
    "def anon_ipv4(value: Any, key: bytes) -> Any:\n",
    "    \"\"\"\n",
    "    Deterministically map an IPv4 string to a pseudonymous dotted-quad using HMAC.\n",
    "    - Fast and stable but NOT prefix-preserving.\n",
    "    - If value is not a valid IPv4, return it unchanged (None/NaN/IPv6/garbage).\n",
    "    \"\"\"\n",
    "    if value is None:\n",
    "        return value\n",
    "    s = str(value).strip()\n",
    "    try:\n",
    "        ipaddress.IPv4Address(s)\n",
    "    except Exception:\n",
    "        return value\n",
    "    dig = hmac.new(key, s.encode(\"utf-8\"), hashlib.sha256).digest()\n",
    "    b0, b1, b2, b3 = dig[0], dig[1], dig[2], dig[3]\n",
    "    return f\"{b0}.{b1}.{b2}.{b3}\"\n",
    "\n",
    "def ipv4_to_int(value: Any) -> Any:\n",
    "    \"\"\"Convert dotted IPv4 to 32-bit integer (NaN if invalid/missing).\"\"\"\n",
    "    try:\n",
    "        return int(ipaddress.IPv4Address(str(value)))\n",
    "    except Exception:\n",
    "        return np.nan\n",
    "\n",
    "def _to_jsonable(v):\n",
    "    \"\"\"Convert common pandas/NumPy types to JSON-safe Python types.\"\"\"\n",
    "    # None/NaN\n",
    "    try:\n",
    "        if pd.isna(v):\n",
    "            return None\n",
    "    except Exception:\n",
    "        pass\n",
    "\n",
    "    # pandas / numpy datetimes\n",
    "    if isinstance(v, pd.Timestamp):\n",
    "        # keep timezone info if present\n",
    "        return v.isoformat()\n",
    "    if isinstance(v, (np.datetime64,)):\n",
    "        return pd.to_datetime(v).isoformat()\n",
    "\n",
    "    # date/time\n",
    "    if isinstance(v, (_dt.datetime, _dt.date, _dt.time)):\n",
    "        try:\n",
    "            return v.isoformat()\n",
    "        except Exception:\n",
    "            return str(v)\n",
    "\n",
    "    # numpy scalars\n",
    "    if isinstance(v, (np.integer,)):\n",
    "        return int(v)\n",
    "    if isinstance(v, (np.floating,)):\n",
    "        f = float(v)\n",
    "        # normalize inf/nan which JSON can't represent\n",
    "        if np.isnan(f) or np.isinf(f):\n",
    "            return None\n",
    "        return f\n",
    "    if isinstance(v, (np.bool_,)):\n",
    "        return bool(v)\n",
    "\n",
    "    # nested containers: convert recursively\n",
    "    if isinstance(v, (list, tuple)):\n",
    "        return [_to_jsonable(x) for x in v]\n",
    "    if isinstance(v, dict):\n",
    "        return {str(k): _to_jsonable(x) for k, x in v.items()}\n",
    "\n",
    "    # leave strings/ints/floats/bools as-is\n",
    "    return v\n",
    "\n",
    "def to_ragged_records(df: pd.DataFrame) -> list[dict]:\n",
    "    \"\"\"\n",
    "    Produce a ragged list of dicts (only non-null fields), JSON-safe.\n",
    "    \"\"\"\n",
    "    out = []\n",
    "    for _, row in df.iterrows():\n",
    "        obj = {}\n",
    "        for c, v in row.items():\n",
    "            # skip null-like\n",
    "            try:\n",
    "                if pd.isna(v):\n",
    "                    continue\n",
    "            except Exception:\n",
    "                pass\n",
    "            jv = _to_jsonable(v)\n",
    "            if jv is not None:\n",
    "                obj[c] = jv\n",
    "        out.append(obj)\n",
    "    return out\n",
    "\n",
    "# ---------- Main pipeline ----------\n",
    "def process_dataset(\n",
    "    df: pd.DataFrame,\n",
    "    user_col: str,\n",
    "    ip_col: str,\n",
    "    status_col: str,\n",
    "    failure_values: Iterable[Any],\n",
    "    user_key_hex: str,\n",
    "    ip_key_hex: str,\n",
    "    vector_cols_clear: Iterable[str] = (),\n",
    "    vector_cols_anon: Iterable[str] = (),\n",
    ") -> Dict[str, Any]:\n",
    "    \"\"\"\n",
    "    End-to-end anonymization + analysis pipeline (no files written).\n",
    "\n",
    "    Returns a dict:\n",
    "      {\n",
    "        \"user_mapping\": DataFrame[ user, anon_user ],\n",
    "        \"ip_mapping\": DataFrame[ ip, anon_ip ],\n",
    "        \"df_anon\": DataFrame  # original df + anon_user, anon_ip, ip_int, anon_ip_int\n",
    "        \"vectors_clear\": np.ndarray | None,\n",
    "        \"vectors_anon\": np.ndarray | None,\n",
    "        \"ragged_records\": list[dict],  # variable-length records (non-null only)\n",
    "        \"failure_stats\": DataFrame[ anon_user, fails, jobs, fail_fraction ],\n",
    "      }\n",
    "    \"\"\"\n",
    "    # sanity checks\n",
    "    for col, name in [(user_col, \"user_col\"), (ip_col, \"ip_col\"), (status_col, \"status_col\")]:\n",
    "        if col not in df.columns:\n",
    "            raise ValueError(f\"Missing {name}: '{col}' not in df.columns\")\n",
    "\n",
    "    user_key = bytes.fromhex(user_key_hex)\n",
    "    ip_key   = bytes.fromhex(ip_key_hex)\n",
    "\n",
    "    # 1) Anonymize user + mapping\n",
    "    anon_user = df[user_col].map(lambda x: token_hmac_b32(x, user_key, 22))\n",
    "    user_mapping = pd.DataFrame({user_col: df[user_col], \"anon_user\": anon_user}).drop_duplicates()\n",
    "\n",
    "    # 2) Anonymize IP + mapping; also integer forms\n",
    "    anon_ip = df[ip_col].map(lambda x: anon_ipv4(x, ip_key))\n",
    "    ip_mapping = pd.DataFrame({ip_col: df[ip_col], \"anon_ip\": anon_ip}).drop_duplicates()\n",
    "\n",
    "    # Build anonymized frame\n",
    "    df_anon = df.copy()\n",
    "    df_anon[\"anon_user\"]   = anon_user\n",
    "    df_anon[\"anon_ip\"]     = anon_ip\n",
    "    df_anon[\"ip_int\"]      = df[ip_col].map(ipv4_to_int)\n",
    "    df_anon[\"anon_ip_int\"] = df_anon[\"anon_ip\"].map(ipv4_to_int)\n",
    "\n",
    "    # 3) Vectors (clear + anonymized)\n",
    "    vectors_clear = None\n",
    "    vectors_anon  = None\n",
    "    if vector_cols_clear:\n",
    "        missing = [c for c in vector_cols_clear if c not in df.columns]\n",
    "        if missing:\n",
    "            raise KeyError(f\"vector_cols_clear missing columns: {missing}\")\n",
    "        vectors_clear = df.loc[:, list(vector_cols_clear)].to_numpy()\n",
    "\n",
    "    if vector_cols_anon:\n",
    "        missing = [c for c in vector_cols_anon if c not in df_anon.columns]\n",
    "        if missing:\n",
    "            raise KeyError(f\"vector_cols_anon missing columns: {missing}\")\n",
    "        vectors_anon = df_anon.loc[:, list(vector_cols_anon)].to_numpy()\n",
    "\n",
    "    # 4) Ragged records (variable length per row)\n",
    "    ragged_records = to_ragged_records(df_anon)\n",
    "\n",
    "    return {\n",
    "        \"user_mapping\": user_mapping,\n",
    "        \"ip_mapping\": ip_mapping,\n",
    "        \"df_anon\": df_anon,\n",
    "        \"vectors_clear\": vectors_clear,\n",
    "        \"vectors_anon\": vectors_anon,\n",
    "        \"ragged_records\": ragged_records,\n",
    "    }"
   ]
  },
  {
   "cell_type": "markdown",
   "id": "20c87f74-77e7-4792-99aa-1ae71d2bcd27",
   "metadata": {},
   "source": [
    "### test code with demo data"
   ]
  },
  {
   "cell_type": "code",
   "execution_count": 20,
   "id": "f051b593-3959-4ab9-9452-40d3732777cd",
   "metadata": {},
   "outputs": [
    {
     "name": "stdout",
     "output_type": "stream",
     "text": [
      "    user               anon_user\n",
      "0  alice  2py4pkutebquzeyxcpn3jl\n",
      "1    bob  ogmmf5dnd5itcvtdzsccob\n",
      "3  carol  rtf2tr6d4rvskvy6mavpjo\n",
      "5   dave  midzqblkeynmz43s6mtd55\n",
      "6   None  jmzyeev7rykqcvkzfstsuy \n",
      "\n",
      "             ip       anon_ip\n",
      "0  192.168.1.10   45.54.22.29\n",
      "1      10.0.0.4   70.4.146.73\n",
      "3       8.8.8.8  131.15.92.55\n",
      "5        bad-ip        bad-ip\n",
      "6          None          None \n",
      "\n",
      "vectors_clear shape: (7, 1)\n",
      "vectors_anon  shape: (7, 2)\n",
      "ragged_records sample: [\n",
      "  {\n",
      "    \"user\": \"alice\",\n",
      "    \"ip\": \"192.168.1.10\",\n",
      "    \"status\": \"OK\",\n",
      "    \"payload_size\": 100,\n",
      "    \"anon_user\": \"2py4pkutebquzeyxcpn3jl\",\n",
      "    \"anon_ip\": \"45.54.22.29\",\n",
      "    \"ip_int\": 3232235786.0,\n",
      "    \"anon_ip_int\": 758519325.0\n",
      "  },\n",
      "  {\n",
      "    \"user\": \"bob\",\n",
      "    \"ip\": \"10.0.0.4\",\n",
      "    \"status\": \"FAIL\",\n",
      "    \"payload_size\": 200,\n",
      "    \"anon_user\": \"ogmmf5dnd5itcvtdzsccob\",\n",
      "    \"anon_ip\": \"70.4.146.73\",\n",
      "    \"ip_int\": 167772164.0,\n",
      "    \"anon_ip_int\": 1174704713.0\n",
      "  }\n",
      "]\n"
     ]
    }
   ],
   "source": [
    "# ---------- Example usage (delete/modify for your data) ----------\n",
    "if __name__ == \"__main__\":\n",
    "    demo = pd.DataFrame({\n",
    "        \"user\": [\"alice\",\"bob\",\"alice\",\"carol\",\"bob\",\"dave\", None],\n",
    "        \"ip\": [\"192.168.1.10\",\"10.0.0.4\",\"192.168.1.10\",\"8.8.8.8\",\"10.0.0.4\",\"bad-ip\", None],\n",
    "        \"status\": [\"OK\",\"FAIL\",\"OK\",\"TIMEOUT\",\"FAIL\",\"OK\",\"FAIL\"],\n",
    "        \"payload_size\": [100, 200, 150, 180, 300, 120, 90],\n",
    "    })\n",
    "    user_key_hex = hashlib.sha256(b\"user-demo-key\").hexdigest()\n",
    "    ip_key_hex   = hashlib.sha256(b\"ip-demo-key\").hexdigest()\n",
    "\n",
    "    out = process_dataset(\n",
    "        demo,\n",
    "        user_col=\"user\",\n",
    "        ip_col=\"ip\",\n",
    "        status_col=\"status\",\n",
    "        failure_values=(\"FAIL\",\"TIMEOUT\"),\n",
    "        user_key_hex=user_key_hex,\n",
    "        ip_key_hex=ip_key_hex,\n",
    "        vector_cols_clear=(\"payload_size\",),\n",
    "        vector_cols_anon=(\"payload_size\",\"anon_ip_int\"),\n",
    "    )\n",
    "\n",
    "    # quick peeks\n",
    "    print(out[\"user_mapping\"].head(), \"\\n\")\n",
    "    print(out[\"ip_mapping\"].head(), \"\\n\")\n",
    "    print(\"vectors_clear shape:\", None if out[\"vectors_clear\"] is None else out[\"vectors_clear\"].shape)\n",
    "    print(\"vectors_anon  shape:\", None if out[\"vectors_anon\"]  is None else out[\"vectors_anon\"].shape)\n",
    "    print(\"ragged_records sample:\", json.dumps(out[\"ragged_records\"][:2], indent=2))\n"
   ]
  },
  {
   "cell_type": "code",
   "execution_count": 21,
   "id": "1e6be76a-f8a8-4bf8-9edf-2eae13046ed1",
   "metadata": {},
   "outputs": [
    {
     "name": "stdout",
     "output_type": "stream",
     "text": [
      "Found 6 files\n"
     ]
    }
   ],
   "source": [
    "anonymized_columns = [\"x509UserProxyEmail\",\"User\",\"JobsubClientIpAddress\"]\n",
    "DATA_DIR = \"../data\"\n",
    "USER_COL = \"User\"\n",
    "IP_COL   = \"JobsubClientIpAddress\"  # can be IPv4 string or 32-bit int in your data\n",
    "FAILED_COL = \"DAG_NodesFailed\"  # boolean-ish; see failure_stats()\n",
    "\n",
    "# Minimal demo DataFrame (replace with your read_parquet)\n",
    "fnames_in = f\"{DATA_DIR}/fifebatch-history-*.parquet\"\n",
    "files = glob.glob(fnames_in)\n",
    "print(f\"Found {len(files)} files\")\n",
    "n_files = 2"
   ]
  },
  {
   "cell_type": "markdown",
   "id": "a2510b22-402c-4edb-8c6e-8f6248025675",
   "metadata": {},
   "source": [
    "**Read data using pandas native read_parquet()**"
   ]
  },
  {
   "cell_type": "code",
   "execution_count": 22,
   "id": "98822285-968f-4f12-895d-d14f8e2fa3a6",
   "metadata": {},
   "outputs": [
    {
     "name": "stdout",
     "output_type": "stream",
     "text": [
      "Read 2 and loaded demo:74500\n"
     ]
    }
   ],
   "source": [
    "# Read and concatenate\n",
    "df_all = pd.concat([pd.read_parquet(f, engine=\"fastparquet\") for f in files[:n_files]], ignore_index=True)\n",
    "print(f\"Read {len(files[:n_files])} and loaded demo:{len(df_all)}\")"
   ]
  },
  {
   "cell_type": "markdown",
   "id": "21cae5fc-b4a5-4f00-be8c-72d092ca8556",
   "metadata": {},
   "source": [
    "**Read data using duckdb**"
   ]
  },
  {
   "cell_type": "code",
   "execution_count": 23,
   "id": "3126220a-2fef-4a75-afba-ac2aa80d60e1",
   "metadata": {},
   "outputs": [],
   "source": [
    "pattern = f\"{DATA_DIR}/*.parquet\"\n",
    "query = f\"SELECT User, RequestMemory, CumulativeSlotTime, JobsubClientIpAddress, MATCH_EXP_JOB_Site, DAG_NodesFailed, NumJobCompletions, NumJobStarts FROM '{pattern}'\"\n",
    "rel_obj = duckdb.sql(query)"
   ]
  },
  {
   "cell_type": "code",
   "execution_count": 24,
   "id": "3ae2cccc-7d34-413f-bfa5-ff61a75b2cc9",
   "metadata": {},
   "outputs": [],
   "source": [
    "df = rel_obj.df()"
   ]
  },
  {
   "cell_type": "code",
   "execution_count": 25,
   "id": "d5a42432-a090-4a20-88c7-105da9cd1499",
   "metadata": {},
   "outputs": [
    {
     "data": {
      "text/plain": [
       "281874"
      ]
     },
     "execution_count": 25,
     "metadata": {},
     "output_type": "execute_result"
    }
   ],
   "source": [
    "len(df)"
   ]
  },
  {
   "cell_type": "code",
   "execution_count": 26,
   "id": "5e6ce145-821c-4870-9bd5-a7d8355301e2",
   "metadata": {},
   "outputs": [
    {
     "name": "stdout",
     "output_type": "stream",
     "text": [
      "                  User               anon_user\n",
      "0   uboonepro@fnal.gov  qmr6f7pxor74ewisnff3bb\n",
      "4   icaruspro@fnal.gov  zm54y4nwfcvespmillgesm\n",
      "6     gputnam@fnal.gov  mm5sjkr7sqoe5k4oyjcexs\n",
      "28   amakovec@fnal.gov  qpms2iqoxvfvggtsis4yzz\n",
      "43    novapro@fnal.gov  rys4gtfwdsoxmvxelfei7e \n",
      "\n",
      "   JobsubClientIpAddress         anon_ip\n",
      "0        131.225.240.146  157.114.23.207\n",
      "4         131.225.240.90    197.91.33.50\n",
      "6        131.225.240.140    35.37.41.247\n",
      "28       131.225.240.190  76.116.142.231\n",
      "43         131.225.67.73   91.150.29.119 \n",
      "\n",
      "vectors_clear shape: (10000, 1)\n",
      "vectors_anon  shape: (10000, 2)\n",
      "ragged_records sample: [\n",
      "  {\n",
      "    \"User\": \"uboonepro@fnal.gov\",\n",
      "    \"RequestMemory\": 2000,\n",
      "    \"CumulativeSlotTime\": 727,\n",
      "    \"JobsubClientIpAddress\": \"131.225.240.146\",\n",
      "    \"MATCH_EXP_JOB_Site\": \"FermiGrid\",\n",
      "    \"NumJobCompletions\": \"1\",\n",
      "    \"NumJobStarts\": 1,\n",
      "    \"anon_user\": \"qmr6f7pxor74ewisnff3bb\",\n",
      "    \"anon_ip\": \"157.114.23.207\",\n",
      "    \"ip_int\": 2212622482.0,\n",
      "    \"anon_ip_int\": 2641500111.0\n",
      "  },\n",
      "  {\n",
      "    \"User\": \"uboonepro@fnal.gov\",\n",
      "    \"RequestMemory\": 3500,\n",
      "    \"CumulativeSlotTime\": 2481,\n",
      "    \"JobsubClientIpAddress\": \"131.225.240.146\",\n",
      "    \"MATCH_EXP_JOB_Site\": \"FermiGrid\",\n",
      "    \"NumJobCompletions\": \"1\",\n",
      "    \"NumJobStarts\": 1,\n",
      "    \"anon_user\": \"qmr6f7pxor74ewisnff3bb\",\n",
      "    \"anon_ip\": \"157.114.23.207\",\n",
      "    \"ip_int\": 2212622482.0,\n",
      "    \"anon_ip_int\": 2641500111.0\n",
      "  }\n",
      "]\n"
     ]
    }
   ],
   "source": [
    "USER_COL = \"User\"\n",
    "IP_COL   = \"JobsubClientIpAddress\"  # can be IPv4 string or 32-bit int in your data\n",
    "FAILED_COL = \"DAG_NodesFailed\"  # boolean-ish; see failure_stats()\n",
    "if __name__ == \"__main__\":\n",
    "    user_key_hex = hashlib.sha256(b\"user-fnal-key\").hexdigest()\n",
    "    ip_key_hex   = hashlib.sha256(b\"ip-fnal-key\").hexdigest()\n",
    "\n",
    "    out = process_dataset(\n",
    "        df.iloc[:10000],\n",
    "        user_col=USER_COL, \n",
    "        ip_col=IP_COL,\n",
    "        status_col=FAILED_COL,\n",
    "        failure_values=(\"FAIL\",\"TIMEOUT\"),\n",
    "        user_key_hex=user_key_hex,\n",
    "        ip_key_hex=ip_key_hex,\n",
    "        vector_cols_clear=(\"User\",),\n",
    "        vector_cols_anon=(\"User\",\"anon_ip_int\"),\n",
    "    )\n",
    "\n",
    "    # quick peeks\n",
    "    print(out[\"user_mapping\"].head(), \"\\n\")\n",
    "    print(out[\"ip_mapping\"].head(), \"\\n\")\n",
    "    print(\"vectors_clear shape:\", None if out[\"vectors_clear\"] is None else out[\"vectors_clear\"].shape)\n",
    "    print(\"vectors_anon  shape:\", None if out[\"vectors_anon\"]  is None else out[\"vectors_anon\"].shape)\n",
    "    print(\"ragged_records sample:\", json.dumps(out[\"ragged_records\"][:2], indent=2))"
   ]
  },
  {
   "cell_type": "code",
   "execution_count": 28,
   "id": "01bd8267-849b-4e53-8df1-3e48804e508d",
   "metadata": {},
   "outputs": [
    {
     "name": "stdout",
     "output_type": "stream",
     "text": [
      "job failure fraction %: 9.581%, job failure abs number: 24400\n"
     ]
    }
   ],
   "source": [
    "n_job_failures = (df.NumJobStarts.sum() -  df.NumJobCompletions.astype('int').sum())\n",
    "job_failure_frac = n_job_failures / df.NumJobStarts.sum()\n",
    "print(f\"job failure fraction %: {job_failure_frac:.3%}, job failure abs number: {n_job_failures}\")"
   ]
  },
  {
   "cell_type": "code",
   "execution_count": 29,
   "id": "a1b090f1-4189-4ca4-9c82-9cca2b18a2d8",
   "metadata": {},
   "outputs": [
    {
     "data": {
      "text/plain": [
       "['uboonepro@fnal.gov',\n",
       " 'osg@fnal.gov',\n",
       " 'novapro@fnal.gov',\n",
       " 'mu2epro@fnal.gov',\n",
       " 'normanm@fnal.gov',\n",
       " 'dunegli@fnal.gov',\n",
       " 'minervapro@fnal.gov',\n",
       " 'vnagasl@fnal.gov',\n",
       " 'cmsgli@fnal.gov',\n",
       " 'gm2pro@fnal.gov',\n",
       " 'hcc@fnal.gov',\n",
       " 'omorenop@fnal.gov',\n",
       " 'icaruspro@fnal.gov',\n",
       " 'anezkak@fnal.gov',\n",
       " 'imawby@fnal.gov',\n",
       " 'carneiro@fnal.gov',\n",
       " 'ichong@fnal.gov',\n",
       " 'zdar@fnal.gov',\n",
       " 'gputnam@fnal.gov',\n",
       " 'laliaga@fnal.gov',\n",
       " 'c7cnz47c4mtyh22tfbpn3f',\n",
       " '4qvket2bv3jfhsqcxavpcl',\n",
       " 'co7gjxiwgktaid3nx24kgt',\n",
       " 'sdgawgbkhw7ld4ig3ndebc',\n",
       " '3updl67txqg64cq6sd4ul4',\n",
       " 'lnphkrdnyj5vljafrncy4f',\n",
       " '5vbh7xkbwphb3gyvpanxs6',\n",
       " 'j4gj4l3bkzyd4plbalpmhd',\n",
       " '2szjjkxxg5tkoqpwnah2g4',\n",
       " 'gakaqchwlk37xxojwxepxg']"
      ]
     },
     "execution_count": 29,
     "metadata": {},
     "output_type": "execute_result"
    }
   ],
   "source": [
    "df[(df.NumJobCompletions.astype('int')==0)&(df.NumJobStarts>0)].User.unique().tolist()"
   ]
  },
  {
   "cell_type": "code",
   "execution_count": null,
   "id": "c243756c-9684-4e94-9766-b958a87ee417",
   "metadata": {},
   "outputs": [],
   "source": []
  },
  {
   "cell_type": "code",
   "execution_count": null,
   "id": "667209a0-efbc-4a33-ada8-6352ceb45b52",
   "metadata": {},
   "outputs": [],
   "source": [
    "import itables"
   ]
  },
  {
   "cell_type": "code",
   "execution_count": null,
   "id": "55037639-9235-4510-9c3f-1632e4ae30d5",
   "metadata": {},
   "outputs": [],
   "source": [
    "itables.show(df_all.iloc[:1000])"
   ]
  },
  {
   "cell_type": "code",
   "execution_count": null,
   "id": "814bdc87-44ce-4412-9047-108f08bb613f",
   "metadata": {},
   "outputs": [],
   "source": []
  },
  {
   "cell_type": "code",
   "execution_count": null,
   "id": "d40bba6a-e3d7-4c8f-b738-080377adf053",
   "metadata": {},
   "outputs": [],
   "source": [
    "[el for el in df_all.columns.tolist() if 'job' in el.lower()]"
   ]
  }
 ],
 "metadata": {
  "kernelspec": {
   "display_name": "Python 3 (ipykernel)",
   "language": "python",
   "name": "python3"
  },
  "language_info": {
   "codemirror_mode": {
    "name": "ipython",
    "version": 3
   },
   "file_extension": ".py",
   "mimetype": "text/x-python",
   "name": "python",
   "nbconvert_exporter": "python",
   "pygments_lexer": "ipython3",
   "version": "3.10.12"
  }
 },
 "nbformat": 4,
 "nbformat_minor": 5
}
