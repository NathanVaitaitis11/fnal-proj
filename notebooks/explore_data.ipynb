{
 "cells": [
  {
   "cell_type": "code",
   "execution_count": 1,
   "id": "0eb7c29b-c37f-4e1f-919a-19a4a23f8f2a",
   "metadata": {},
   "outputs": [],
   "source": [
    "#Assignment:\n",
    "\n",
    "#1) Anon the user field and create a mapping\n",
    "#2) Anon the IP address field (which is expressed as a string, but can also map to a 32bit integer. [yet sparsely so in our data]\n",
    "#3) Make a vectors of the anonymous data and clear data\n",
    "#4) Generate a \"ragged array\" of the data in this form (i.e. dump out the records which are of variable length)\n",
    "### Bonus) Tell us which users jobs fail and how often as an absolute number, and as a fraction of the whole dataset."
   ]
  },
  {
   "cell_type": "markdown",
   "id": "8eadbe23-3a0f-44a1-9033-0aff261f4d80",
   "metadata": {},
   "source": [
    "### First pass of exploring FNAL data"
   ]
  },
  {
   "cell_type": "code",
   "execution_count": 2,
   "id": "20408623-bd7f-49fb-8c0a-77c29a4b836c",
   "metadata": {},
   "outputs": [],
   "source": [
    "import sys, os\n",
    "import pandas as pd\n",
    "import glob"
   ]
  },
  {
   "cell_type": "code",
   "execution_count": 3,
   "id": "563de4c8-262f-4c9d-8f33-c0b788747762",
   "metadata": {},
   "outputs": [],
   "source": [
    "DATA_DIR = \"../data\""
   ]
  },
  {
   "cell_type": "code",
   "execution_count": 4,
   "id": "d97d9411-8cee-4aaa-ab0c-0b475dc72c03",
   "metadata": {},
   "outputs": [],
   "source": [
    "lib_path = '../'\n",
    "if lib_path not in sys.path:\n",
    "    sys.path.append(lib_path)"
   ]
  },
  {
   "cell_type": "code",
   "execution_count": 5,
   "id": "9900a3c7-606c-4e46-8570-e8fc8c452d65",
   "metadata": {},
   "outputs": [],
   "source": [
    "#!pip install fastparquet"
   ]
  },
  {
   "cell_type": "code",
   "execution_count": 6,
   "id": "e10c0a2d-1191-4cdc-b098-4d084c3bf1e2",
   "metadata": {},
   "outputs": [],
   "source": [
    "fname_in = f\"{DATA_DIR}/fifebatch-history-v3-2024.01.01-0002.parquet\"\n",
    "fname_out = f\"{DATA_DIR}/anonymized-batch-0002.parquet\""
   ]
  },
  {
   "cell_type": "code",
   "execution_count": 7,
   "id": "14989f0f-4f63-462a-b7c0-94a0678f5082",
   "metadata": {},
   "outputs": [],
   "source": [
    "fname_hmac_out = f\"{DATA_DIR}/hmac-anonymized-batch-0002.parquet\"\n",
    "fname_fpe_out = f\"{DATA_DIR}/fpe-anonymized-batch-0002.parquet\""
   ]
  },
  {
   "cell_type": "code",
   "execution_count": 8,
   "id": "36402b97-f048-43aa-80cc-d8073f59e536",
   "metadata": {},
   "outputs": [
    {
     "name": "stdout",
     "output_type": "stream",
     "text": [
      "Found 6 files\n"
     ]
    }
   ],
   "source": [
    "fnames_in = f\"{DATA_DIR}/fifebatch-history-*.parquet\"\n",
    "files = glob.glob(fnames_in)\n",
    "print(f\"Found {len(files)} files\")\n",
    "# Read and concatenate\n",
    "df_all = pd.concat([pd.read_parquet(f, engine=\"fastparquet\") for f in files], ignore_index=True)"
   ]
  },
  {
   "cell_type": "code",
   "execution_count": 9,
   "id": "90c74317-d9c1-451b-a913-e209cf84d2d4",
   "metadata": {},
   "outputs": [
    {
     "name": "stdout",
     "output_type": "stream",
     "text": [
      "@timestamp                datetime64[us]\n",
      "@version                          object\n",
      "AccountingGroup                   object\n",
      "AccountingGroupOSG                object\n",
      "AcctGroup                         object\n",
      "                               ...      \n",
      "x509UserProxyFirstFQAN            object\n",
      "x509UserProxyVOName               object\n",
      "x509userproxy                     object\n",
      "x509userproxysubject              object\n",
      "xcount                            object\n",
      "Length: 595, dtype: object\n"
     ]
    }
   ],
   "source": [
    "df = pd.read_parquet(fname_in, engine=\"fastparquet\")  # or engine=\"fastparquet\"\n",
    "print(df.dtypes)       # Column names + types"
   ]
  },
  {
   "cell_type": "code",
   "execution_count": 10,
   "id": "f6899f22-0100-45cd-b25d-ed3dae6e6d4f",
   "metadata": {},
   "outputs": [
    {
     "data": {
      "text/plain": [
       "['DAG_NodesFailed']"
      ]
     },
     "execution_count": 10,
     "metadata": {},
     "output_type": "execute_result"
    }
   ],
   "source": [
    "[col for col in df.columns.tolist() if 'fail' in col.lower()]"
   ]
  },
  {
   "cell_type": "code",
   "execution_count": 11,
   "id": "449bba03-5b65-4921-adb1-945d0b69a828",
   "metadata": {},
   "outputs": [
    {
     "data": {
      "text/html": [
       "<div>\n",
       "<style scoped>\n",
       "    .dataframe tbody tr th:only-of-type {\n",
       "        vertical-align: middle;\n",
       "    }\n",
       "\n",
       "    .dataframe tbody tr th {\n",
       "        vertical-align: top;\n",
       "    }\n",
       "\n",
       "    .dataframe thead th {\n",
       "        text-align: right;\n",
       "    }\n",
       "</style>\n",
       "<table border=\"1\" class=\"dataframe\">\n",
       "  <thead>\n",
       "    <tr style=\"text-align: right;\">\n",
       "      <th></th>\n",
       "      <th>@timestamp</th>\n",
       "      <th>@version</th>\n",
       "      <th>AccountingGroup</th>\n",
       "      <th>AccountingGroupOSG</th>\n",
       "      <th>AcctGroup</th>\n",
       "      <th>AcctGroupUser</th>\n",
       "      <th>AllowOpportunistic</th>\n",
       "      <th>Args</th>\n",
       "      <th>Arguments</th>\n",
       "      <th>AutoClusterAttrs</th>\n",
       "      <th>...</th>\n",
       "      <th>use_x509userproxy</th>\n",
       "      <th>x509UserProxyEmail</th>\n",
       "      <th>x509UserProxyExpiration</th>\n",
       "      <th>x509UserProxyExpiration_ms</th>\n",
       "      <th>x509UserProxyFQAN</th>\n",
       "      <th>x509UserProxyFirstFQAN</th>\n",
       "      <th>x509UserProxyVOName</th>\n",
       "      <th>x509userproxy</th>\n",
       "      <th>x509userproxysubject</th>\n",
       "      <th>xcount</th>\n",
       "    </tr>\n",
       "  </thead>\n",
       "  <tbody>\n",
       "    <tr>\n",
       "      <th>0</th>\n",
       "      <td>NaT</td>\n",
       "      <td>1</td>\n",
       "      <td>group_gm2.prod.gm2pro</td>\n",
       "      <td>None</td>\n",
       "      <td>None</td>\n",
       "      <td>None</td>\n",
       "      <td>None</td>\n",
       "      <td>multipleroot True muon True noGrid False input...</td>\n",
       "      <td>None</td>\n",
       "      <td>None</td>\n",
       "      <td>...</td>\n",
       "      <td>None</td>\n",
       "      <td>None</td>\n",
       "      <td>2024-01-07 16:58:02</td>\n",
       "      <td>1.704668e+12</td>\n",
       "      <td>None</td>\n",
       "      <td>None</td>\n",
       "      <td>None</td>\n",
       "      <td>gm2pro.Production.proxy</td>\n",
       "      <td>/DC=org/DC=incommon/C=US/ST=Illinois/O=Fermi R...</td>\n",
       "      <td>None</td>\n",
       "    </tr>\n",
       "    <tr>\n",
       "      <th>1</th>\n",
       "      <td>NaT</td>\n",
       "      <td>1</td>\n",
       "      <td>group_icarus.pro.icaruspro</td>\n",
       "      <td>None</td>\n",
       "      <td>None</td>\n",
       "      <td>None</td>\n",
       "      <td>None</td>\n",
       "      <td>--debug --find_setups --source-unquote /cvmfs/...</td>\n",
       "      <td>None</td>\n",
       "      <td>None</td>\n",
       "      <td>...</td>\n",
       "      <td>None</td>\n",
       "      <td>None</td>\n",
       "      <td>2024-01-07 16:58:07</td>\n",
       "      <td>1.704668e+12</td>\n",
       "      <td>None</td>\n",
       "      <td>None</td>\n",
       "      <td>None</td>\n",
       "      <td>icaruspro.Production.proxy</td>\n",
       "      <td>/DC=org/DC=incommon/C=US/ST=Illinois/O=Fermi R...</td>\n",
       "      <td>None</td>\n",
       "    </tr>\n",
       "    <tr>\n",
       "      <th>2</th>\n",
       "      <td>NaT</td>\n",
       "      <td>1</td>\n",
       "      <td>group_icarus.pro.icaruspro</td>\n",
       "      <td>None</td>\n",
       "      <td>None</td>\n",
       "      <td>None</td>\n",
       "      <td>None</td>\n",
       "      <td>--debug --find_setups --source-unquote /cvmfs/...</td>\n",
       "      <td>None</td>\n",
       "      <td>None</td>\n",
       "      <td>...</td>\n",
       "      <td>None</td>\n",
       "      <td>None</td>\n",
       "      <td>2024-01-07 16:58:07</td>\n",
       "      <td>1.704668e+12</td>\n",
       "      <td>None</td>\n",
       "      <td>None</td>\n",
       "      <td>None</td>\n",
       "      <td>icaruspro.Production.proxy</td>\n",
       "      <td>/DC=org/DC=incommon/C=US/ST=Illinois/O=Fermi R...</td>\n",
       "      <td>None</td>\n",
       "    </tr>\n",
       "    <tr>\n",
       "      <th>3</th>\n",
       "      <td>NaT</td>\n",
       "      <td>1</td>\n",
       "      <td>group_uboone.prod.uboonepro</td>\n",
       "      <td>None</td>\n",
       "      <td>None</td>\n",
       "      <td>None</td>\n",
       "      <td>None</td>\n",
       "      <td>--nfile 1 --group uboone -g -c wrapper.fcl --u...</td>\n",
       "      <td>None</td>\n",
       "      <td>None</td>\n",
       "      <td>...</td>\n",
       "      <td>None</td>\n",
       "      <td>None</td>\n",
       "      <td>2024-01-07 16:58:08</td>\n",
       "      <td>1.704668e+12</td>\n",
       "      <td>None</td>\n",
       "      <td>None</td>\n",
       "      <td>None</td>\n",
       "      <td>uboonepro.Production.proxy</td>\n",
       "      <td>/DC=org/DC=incommon/C=US/ST=Illinois/O=Fermi R...</td>\n",
       "      <td>None</td>\n",
       "    </tr>\n",
       "    <tr>\n",
       "      <th>4</th>\n",
       "      <td>NaT</td>\n",
       "      <td>1</td>\n",
       "      <td>group_pip2.mars.amakovec</td>\n",
       "      <td>None</td>\n",
       "      <td>None</td>\n",
       "      <td>None</td>\n",
       "      <td>None</td>\n",
       "      <td>None</td>\n",
       "      <td>None</td>\n",
       "      <td>None</td>\n",
       "      <td>...</td>\n",
       "      <td>None</td>\n",
       "      <td>amakovec@fnal.gov</td>\n",
       "      <td>2024-01-07 15:29:15</td>\n",
       "      <td>1.704663e+12</td>\n",
       "      <td>None</td>\n",
       "      <td>None</td>\n",
       "      <td>None</td>\n",
       "      <td>x509up_pip2_MARS_59791</td>\n",
       "      <td>/DC=org/DC=cilogon/C=US/O=Fermi National Accel...</td>\n",
       "      <td>None</td>\n",
       "    </tr>\n",
       "  </tbody>\n",
       "</table>\n",
       "<p>5 rows × 595 columns</p>\n",
       "</div>"
      ],
      "text/plain": [
       "  @timestamp @version              AccountingGroup AccountingGroupOSG  \\\n",
       "0        NaT        1        group_gm2.prod.gm2pro               None   \n",
       "1        NaT        1   group_icarus.pro.icaruspro               None   \n",
       "2        NaT        1   group_icarus.pro.icaruspro               None   \n",
       "3        NaT        1  group_uboone.prod.uboonepro               None   \n",
       "4        NaT        1     group_pip2.mars.amakovec               None   \n",
       "\n",
       "  AcctGroup AcctGroupUser AllowOpportunistic  \\\n",
       "0      None          None               None   \n",
       "1      None          None               None   \n",
       "2      None          None               None   \n",
       "3      None          None               None   \n",
       "4      None          None               None   \n",
       "\n",
       "                                                Args Arguments  \\\n",
       "0  multipleroot True muon True noGrid False input...      None   \n",
       "1  --debug --find_setups --source-unquote /cvmfs/...      None   \n",
       "2  --debug --find_setups --source-unquote /cvmfs/...      None   \n",
       "3  --nfile 1 --group uboone -g -c wrapper.fcl --u...      None   \n",
       "4                                               None      None   \n",
       "\n",
       "  AutoClusterAttrs  ...  use_x509userproxy x509UserProxyEmail  \\\n",
       "0             None  ...               None               None   \n",
       "1             None  ...               None               None   \n",
       "2             None  ...               None               None   \n",
       "3             None  ...               None               None   \n",
       "4             None  ...               None  amakovec@fnal.gov   \n",
       "\n",
       "   x509UserProxyExpiration  x509UserProxyExpiration_ms  x509UserProxyFQAN  \\\n",
       "0      2024-01-07 16:58:02                1.704668e+12               None   \n",
       "1      2024-01-07 16:58:07                1.704668e+12               None   \n",
       "2      2024-01-07 16:58:07                1.704668e+12               None   \n",
       "3      2024-01-07 16:58:08                1.704668e+12               None   \n",
       "4      2024-01-07 15:29:15                1.704663e+12               None   \n",
       "\n",
       "   x509UserProxyFirstFQAN  x509UserProxyVOName               x509userproxy  \\\n",
       "0                    None                 None     gm2pro.Production.proxy   \n",
       "1                    None                 None  icaruspro.Production.proxy   \n",
       "2                    None                 None  icaruspro.Production.proxy   \n",
       "3                    None                 None  uboonepro.Production.proxy   \n",
       "4                    None                 None      x509up_pip2_MARS_59791   \n",
       "\n",
       "                                x509userproxysubject  xcount  \n",
       "0  /DC=org/DC=incommon/C=US/ST=Illinois/O=Fermi R...    None  \n",
       "1  /DC=org/DC=incommon/C=US/ST=Illinois/O=Fermi R...    None  \n",
       "2  /DC=org/DC=incommon/C=US/ST=Illinois/O=Fermi R...    None  \n",
       "3  /DC=org/DC=incommon/C=US/ST=Illinois/O=Fermi R...    None  \n",
       "4  /DC=org/DC=cilogon/C=US/O=Fermi National Accel...    None  \n",
       "\n",
       "[5 rows x 595 columns]"
      ]
     },
     "execution_count": 11,
     "metadata": {},
     "output_type": "execute_result"
    }
   ],
   "source": [
    "df.head()"
   ]
  },
  {
   "cell_type": "code",
   "execution_count": 12,
   "id": "a37126c2-b0c7-45d5-b9be-dd151b83af18",
   "metadata": {},
   "outputs": [],
   "source": [
    "from hashlib import sha256\n",
    "from lib.anonymize_kv_mvp import anonymize_df\n",
    "from lib.utils_secrets import gen_secret_hex"
   ]
  },
  {
   "cell_type": "code",
   "execution_count": 13,
   "id": "97539241-828b-48ee-b5e3-e3562a188c5a",
   "metadata": {},
   "outputs": [],
   "source": [
    "anonymized_columns = [\"x509UserProxyEmail\",\"User\",\"JobsubClientIpAddress\"]\n",
    "#anonymized_columns = [\"AccountingGroup\",\"x509UserProxyEmail\",\"x509userproxy\",\"x509userproxysubject\",\"JobsubClientIpAddress\"],"
   ]
  },
  {
   "cell_type": "code",
   "execution_count": 14,
   "id": "c42a88bc-306c-41e5-b956-f584b24bf303",
   "metadata": {},
   "outputs": [
    {
     "data": {
      "text/html": [
       "<div>\n",
       "<style scoped>\n",
       "    .dataframe tbody tr th:only-of-type {\n",
       "        vertical-align: middle;\n",
       "    }\n",
       "\n",
       "    .dataframe tbody tr th {\n",
       "        vertical-align: top;\n",
       "    }\n",
       "\n",
       "    .dataframe thead th {\n",
       "        text-align: right;\n",
       "    }\n",
       "</style>\n",
       "<table border=\"1\" class=\"dataframe\">\n",
       "  <thead>\n",
       "    <tr style=\"text-align: right;\">\n",
       "      <th></th>\n",
       "      <th>x509UserProxyEmail</th>\n",
       "      <th>User</th>\n",
       "      <th>JobsubClientIpAddress</th>\n",
       "      <th>DAG_NodesFailed</th>\n",
       "    </tr>\n",
       "  </thead>\n",
       "  <tbody>\n",
       "    <tr>\n",
       "      <th>0</th>\n",
       "      <td>None</td>\n",
       "      <td>gm2pro@fnal.gov</td>\n",
       "      <td>131.225.164.43</td>\n",
       "      <td>NaN</td>\n",
       "    </tr>\n",
       "    <tr>\n",
       "      <th>1</th>\n",
       "      <td>None</td>\n",
       "      <td>icaruspro@fnal.gov</td>\n",
       "      <td>131.225.240.90</td>\n",
       "      <td>NaN</td>\n",
       "    </tr>\n",
       "    <tr>\n",
       "      <th>2</th>\n",
       "      <td>None</td>\n",
       "      <td>icaruspro@fnal.gov</td>\n",
       "      <td>131.225.240.90</td>\n",
       "      <td>NaN</td>\n",
       "    </tr>\n",
       "    <tr>\n",
       "      <th>3</th>\n",
       "      <td>None</td>\n",
       "      <td>uboonepro@fnal.gov</td>\n",
       "      <td>131.225.240.146</td>\n",
       "      <td>NaN</td>\n",
       "    </tr>\n",
       "    <tr>\n",
       "      <th>4</th>\n",
       "      <td>amakovec@fnal.gov</td>\n",
       "      <td>amakovec@fnal.gov</td>\n",
       "      <td>131.225.240.190</td>\n",
       "      <td>NaN</td>\n",
       "    </tr>\n",
       "    <tr>\n",
       "      <th>...</th>\n",
       "      <td>...</td>\n",
       "      <td>...</td>\n",
       "      <td>...</td>\n",
       "      <td>...</td>\n",
       "    </tr>\n",
       "    <tr>\n",
       "      <th>37495</th>\n",
       "      <td>None</td>\n",
       "      <td>icaruspro@fnal.gov</td>\n",
       "      <td>131.225.240.90</td>\n",
       "      <td>NaN</td>\n",
       "    </tr>\n",
       "    <tr>\n",
       "      <th>37496</th>\n",
       "      <td>None</td>\n",
       "      <td>icaruspro@fnal.gov</td>\n",
       "      <td>131.225.240.90</td>\n",
       "      <td>NaN</td>\n",
       "    </tr>\n",
       "    <tr>\n",
       "      <th>37497</th>\n",
       "      <td>None</td>\n",
       "      <td>uboonepro@fnal.gov</td>\n",
       "      <td>131.225.240.146</td>\n",
       "      <td>NaN</td>\n",
       "    </tr>\n",
       "    <tr>\n",
       "      <th>37498</th>\n",
       "      <td>None</td>\n",
       "      <td>icaruspro@fnal.gov</td>\n",
       "      <td>131.225.240.90</td>\n",
       "      <td>NaN</td>\n",
       "    </tr>\n",
       "    <tr>\n",
       "      <th>37499</th>\n",
       "      <td>None</td>\n",
       "      <td>icaruspro@fnal.gov</td>\n",
       "      <td>131.225.240.90</td>\n",
       "      <td>NaN</td>\n",
       "    </tr>\n",
       "  </tbody>\n",
       "</table>\n",
       "<p>37500 rows × 4 columns</p>\n",
       "</div>"
      ],
      "text/plain": [
       "      x509UserProxyEmail                User JobsubClientIpAddress  \\\n",
       "0                   None     gm2pro@fnal.gov        131.225.164.43   \n",
       "1                   None  icaruspro@fnal.gov        131.225.240.90   \n",
       "2                   None  icaruspro@fnal.gov        131.225.240.90   \n",
       "3                   None  uboonepro@fnal.gov       131.225.240.146   \n",
       "4      amakovec@fnal.gov   amakovec@fnal.gov       131.225.240.190   \n",
       "...                  ...                 ...                   ...   \n",
       "37495               None  icaruspro@fnal.gov        131.225.240.90   \n",
       "37496               None  icaruspro@fnal.gov        131.225.240.90   \n",
       "37497               None  uboonepro@fnal.gov       131.225.240.146   \n",
       "37498               None  icaruspro@fnal.gov        131.225.240.90   \n",
       "37499               None  icaruspro@fnal.gov        131.225.240.90   \n",
       "\n",
       "       DAG_NodesFailed  \n",
       "0                  NaN  \n",
       "1                  NaN  \n",
       "2                  NaN  \n",
       "3                  NaN  \n",
       "4                  NaN  \n",
       "...                ...  \n",
       "37495              NaN  \n",
       "37496              NaN  \n",
       "37497              NaN  \n",
       "37498              NaN  \n",
       "37499              NaN  \n",
       "\n",
       "[37500 rows x 4 columns]"
      ]
     },
     "execution_count": 14,
     "metadata": {},
     "output_type": "execute_result"
    }
   ],
   "source": [
    "df[anonymized_columns + ['DAG_NodesFailed']]"
   ]
  },
  {
   "cell_type": "code",
   "execution_count": 22,
   "id": "00bce2f8-8fdd-4bd2-906f-b2f313c681dc",
   "metadata": {},
   "outputs": [
    {
     "data": {
      "text/html": [
       "<div>\n",
       "<style scoped>\n",
       "    .dataframe tbody tr th:only-of-type {\n",
       "        vertical-align: middle;\n",
       "    }\n",
       "\n",
       "    .dataframe tbody tr th {\n",
       "        vertical-align: top;\n",
       "    }\n",
       "\n",
       "    .dataframe thead th {\n",
       "        text-align: right;\n",
       "    }\n",
       "</style>\n",
       "<table border=\"1\" class=\"dataframe\">\n",
       "  <thead>\n",
       "    <tr style=\"text-align: right;\">\n",
       "      <th></th>\n",
       "      <th>@timestamp</th>\n",
       "      <th>@version</th>\n",
       "      <th>AccountingGroup</th>\n",
       "      <th>AccountingGroupOSG</th>\n",
       "      <th>AcctGroup</th>\n",
       "      <th>AcctGroupUser</th>\n",
       "      <th>AllowOpportunistic</th>\n",
       "      <th>Args</th>\n",
       "      <th>Arguments</th>\n",
       "      <th>AutoClusterAttrs</th>\n",
       "      <th>...</th>\n",
       "      <th>use_x509userproxy</th>\n",
       "      <th>x509UserProxyEmail</th>\n",
       "      <th>x509UserProxyExpiration</th>\n",
       "      <th>x509UserProxyExpiration_ms</th>\n",
       "      <th>x509UserProxyFQAN</th>\n",
       "      <th>x509UserProxyFirstFQAN</th>\n",
       "      <th>x509UserProxyVOName</th>\n",
       "      <th>x509userproxy</th>\n",
       "      <th>x509userproxysubject</th>\n",
       "      <th>xcount</th>\n",
       "    </tr>\n",
       "  </thead>\n",
       "  <tbody>\n",
       "  </tbody>\n",
       "</table>\n",
       "<p>0 rows × 595 columns</p>\n",
       "</div>"
      ],
      "text/plain": [
       "Empty DataFrame\n",
       "Columns: [@timestamp, @version, AccountingGroup, AccountingGroupOSG, AcctGroup, AcctGroupUser, AllowOpportunistic, Args, Arguments, AutoClusterAttrs, AutoClusterId, Blacklist_Sites, BlockReadKbytes, BlockReads, BlockWriteKbytes, BlockWrites, BufferBlockSize, BufferSize, BytesRecvd, BytesSent, CERequirements, CI_VALIDATION_STAGE, CI_VALIDATION_SUITE, CMSGroups, CMSSW_Versions, CMS_ALLOW_OVERFLOW, CMS_JobRetryCount, CMS_JobType, CMS_SubmissionTool, CMS_Type, CMS_WMTool, CPUsUsage, ClusterId, Cmd, CmdHash, CommittedSlotTime, CommittedSuspensionTime, CommittedTime, CommittedTime_hours, CompletionDate, CompletionDate_ms, CondorCE, CondorPlatform, CondorVersion, CoreHours, CoreSize, CpuEfficiency, CpusProvisioned, CumulativeRemoteSysCpu, CumulativeRemoteUserCpu, CumulativeSlotTime, CumulativeSuspensionTime, CurrentHosts, CurrentStatusUnknown, DAGManJobId, DAGManNodesLog, DAGManNodesMask, DAGNodeName, DAGParentNodeNames, DAG_InRecovery, DAG_NodesDone, DAG_NodesFailed, DAG_NodesPostrun, DAG_NodesPrerun, DAG_NodesQueued, DAG_NodesReady, DAG_NodesTotal, DAG_NodesUnready, DAG_Stats, DAG_Status, DESIRED_CMSDataLocations, DESIRED_CMSDataset, DESIRED_CMSPileups, DESIRED_Sites, DESIRED_USAGE_MODEL, DESIRED_usage_model, DelegatedProxyExpiration, DesiredOS, DiskProvisioned, DiskUsage, DiskUsage_GiB, DiskUsage_RAW, DockerImage, Drain, EncryptExecuteDirectory, EncryptInputFiles, EnteredCurrentStatus, EnteredCurrentStatus_ms, Env, EnvDelim, Environment, Err, EstimatedSingleCoreMins, ExecutableSize, ExecutableSize_RAW, ExitBySignal, ExitCode, ExitReason, ExitSignal, ExitStatus, ...]\n",
       "Index: []\n",
       "\n",
       "[0 rows x 595 columns]"
      ]
     },
     "execution_count": 22,
     "metadata": {},
     "output_type": "execute_result"
    }
   ],
   "source": [
    "df[~df['DAG_NodesFailed'].isna()]"
   ]
  },
  {
   "cell_type": "code",
   "execution_count": 15,
   "id": "3971bb3e-ed36-4efe-8288-a4189e1176b1",
   "metadata": {},
   "outputs": [],
   "source": [
    "#key_hex = sha256(b\"kms-secret\").hexdigest()\n",
    "key_hex = gen_secret_hex(mode=\"dev\", data_dir=\"../data\")\n",
    "df_hmac, mapping = anonymize_df(\n",
    "    df,\n",
    "    columns=anonymized_columns,\n",
    "    key_hex=key_hex,\n",
    "    mode=\"hmac\",\n",
    "    email_preserve_domain=True,   # token@domain\n",
    ")"
   ]
  },
  {
   "cell_type": "code",
   "execution_count": 16,
   "id": "a2c69238-c0c4-460b-912c-45e28ba775b6",
   "metadata": {},
   "outputs": [
    {
     "data": {
      "text/html": [
       "<div>\n",
       "<style scoped>\n",
       "    .dataframe tbody tr th:only-of-type {\n",
       "        vertical-align: middle;\n",
       "    }\n",
       "\n",
       "    .dataframe tbody tr th {\n",
       "        vertical-align: top;\n",
       "    }\n",
       "\n",
       "    .dataframe thead th {\n",
       "        text-align: right;\n",
       "    }\n",
       "</style>\n",
       "<table border=\"1\" class=\"dataframe\">\n",
       "  <thead>\n",
       "    <tr style=\"text-align: right;\">\n",
       "      <th></th>\n",
       "      <th>x509UserProxyEmail</th>\n",
       "      <th>User</th>\n",
       "      <th>JobsubClientIpAddress</th>\n",
       "    </tr>\n",
       "  </thead>\n",
       "  <tbody>\n",
       "    <tr>\n",
       "      <th>0</th>\n",
       "      <td>None</td>\n",
       "      <td>sdgawgbkhw7ld4ig3ndebc</td>\n",
       "      <td>iqkl5uv7w73225x7j2q7nk</td>\n",
       "    </tr>\n",
       "    <tr>\n",
       "      <th>1</th>\n",
       "      <td>None</td>\n",
       "      <td>gakaqchwlk37xxojwxepxg</td>\n",
       "      <td>7ebx4f2vusi5w463zilxcz</td>\n",
       "    </tr>\n",
       "    <tr>\n",
       "      <th>2</th>\n",
       "      <td>None</td>\n",
       "      <td>gakaqchwlk37xxojwxepxg</td>\n",
       "      <td>7ebx4f2vusi5w463zilxcz</td>\n",
       "    </tr>\n",
       "    <tr>\n",
       "      <th>3</th>\n",
       "      <td>None</td>\n",
       "      <td>4qvket2bv3jfhsqcxavpcl</td>\n",
       "      <td>zxjln6il7ptfcjxoahf5oe</td>\n",
       "    </tr>\n",
       "    <tr>\n",
       "      <th>4</th>\n",
       "      <td>g37s3mev57zmgqxb@fnal.gov</td>\n",
       "      <td>vh3x2wljnt6yrtymwggnzr</td>\n",
       "      <td>wpiztgq6ffvjw2ezwadub6</td>\n",
       "    </tr>\n",
       "  </tbody>\n",
       "</table>\n",
       "</div>"
      ],
      "text/plain": [
       "          x509UserProxyEmail                    User   JobsubClientIpAddress\n",
       "0                       None  sdgawgbkhw7ld4ig3ndebc  iqkl5uv7w73225x7j2q7nk\n",
       "1                       None  gakaqchwlk37xxojwxepxg  7ebx4f2vusi5w463zilxcz\n",
       "2                       None  gakaqchwlk37xxojwxepxg  7ebx4f2vusi5w463zilxcz\n",
       "3                       None  4qvket2bv3jfhsqcxavpcl  zxjln6il7ptfcjxoahf5oe\n",
       "4  g37s3mev57zmgqxb@fnal.gov  vh3x2wljnt6yrtymwggnzr  wpiztgq6ffvjw2ezwadub6"
      ]
     },
     "execution_count": 16,
     "metadata": {},
     "output_type": "execute_result"
    }
   ],
   "source": [
    "df_hmac[anonymized_columns].head(5)"
   ]
  },
  {
   "cell_type": "code",
   "execution_count": 17,
   "id": "139adf65-a8b6-4c01-b776-81200bd6edd7",
   "metadata": {},
   "outputs": [],
   "source": [
    "df_hmac.to_parquet(fname_hmac_out, index=False, engine=\"fastparquet\")"
   ]
  },
  {
   "cell_type": "code",
   "execution_count": 18,
   "id": "0172a9c0-9a3a-40d2-a222-c4991ca3261a",
   "metadata": {},
   "outputs": [],
   "source": [
    "df_fpe, mapping = anonymize_df(\n",
    "    df,\n",
    "    #columns=[\"AccountingGroup\",\"x509UserProxyEmail\",\"x509userproxy\",\"x509userproxysubject\"],\n",
    "    columns=[\"x509userproxy\"],\n",
    "    key_hex=key_hex,\n",
    "    mode=\"fpe\",\n",
    "    email_preserve_domain=True,   # only local-part anonymized\n",
    ")"
   ]
  },
  {
   "cell_type": "code",
   "execution_count": 19,
   "id": "efde9b36-5c60-46d8-bc50-c4d836933ec0",
   "metadata": {},
   "outputs": [],
   "source": [
    "df_fpe.to_parquet(fname_fpe_out, index=False, engine=\"fastparquet\")"
   ]
  },
  {
   "cell_type": "code",
   "execution_count": 20,
   "id": "74af0258-d65e-4a15-9b88-89bbf66fc0b6",
   "metadata": {},
   "outputs": [
    {
     "data": {
      "text/plain": [
       "37500"
      ]
     },
     "execution_count": 20,
     "metadata": {},
     "output_type": "execute_result"
    }
   ],
   "source": [
    "len(mapping)"
   ]
  },
  {
   "cell_type": "code",
   "execution_count": null,
   "id": "8d58b1cc-fe31-416e-8a48-4b6bff4f030c",
   "metadata": {},
   "outputs": [],
   "source": []
  }
 ],
 "metadata": {
  "kernelspec": {
   "display_name": "Python 3 (ipykernel)",
   "language": "python",
   "name": "python3"
  },
  "language_info": {
   "codemirror_mode": {
    "name": "ipython",
    "version": 3
   },
   "file_extension": ".py",
   "mimetype": "text/x-python",
   "name": "python",
   "nbconvert_exporter": "python",
   "pygments_lexer": "ipython3",
   "version": "3.10.12"
  }
 },
 "nbformat": 4,
 "nbformat_minor": 5
}
